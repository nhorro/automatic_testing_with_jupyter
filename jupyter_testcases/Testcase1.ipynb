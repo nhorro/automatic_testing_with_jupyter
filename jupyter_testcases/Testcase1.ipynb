{
 "cells": [
  {
   "cell_type": "markdown",
   "id": "a3df0842-9cc1-4cb7-b26c-dccc0d628912",
   "metadata": {},
   "source": [
    "# Testcase 1"
   ]
  },
  {
   "cell_type": "code",
   "execution_count": 6,
   "id": "7092ec4e",
   "metadata": {},
   "outputs": [],
   "source": [
    "import requests"
   ]
  },
  {
   "cell_type": "code",
   "execution_count": null,
   "id": "ff4192c8",
   "metadata": {},
   "outputs": [],
   "source": []
  },
  {
   "cell_type": "code",
   "execution_count": 12,
   "id": "6c65a25c-44f0-4f27-9933-4419ddfb2ef7",
   "metadata": {},
   "outputs": [],
   "source": [
    "query = {'a':'2', 'b':'2'}\n",
    "response = requests.get(\"http://localhost:80/isum\",query)\n",
    "\n",
    "assert(response.status_code == 200)\n",
    "assert(\"result\" in response.json())\n",
    "assert(response.json()[\"result\"] == 4)"
   ]
  }
 ],
 "metadata": {
  "kernelspec": {
   "display_name": "Python 3.8.10 64-bit",
   "language": "python",
   "name": "python3"
  },
  "language_info": {
   "codemirror_mode": {
    "name": "ipython",
    "version": 3
   },
   "file_extension": ".py",
   "mimetype": "text/x-python",
   "name": "python",
   "nbconvert_exporter": "python",
   "pygments_lexer": "ipython3",
   "version": "3.8.10"
  },
  "vscode": {
   "interpreter": {
    "hash": "916dbcbb3f70747c44a77c7bcd40155683ae19c65e1c03b4aa3499c5328201f1"
   }
  }
 },
 "nbformat": 4,
 "nbformat_minor": 5
}
